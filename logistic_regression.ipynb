{
 "cells": [
  {
   "cell_type": "markdown",
   "metadata": {},
   "source": [
    "Logistic Regression is used for classification problems. It predicts the probablity that a given data points \n",
    "belongs to a certain class, like yes/no or 0/1. It uses a logistic function to output a value between 0 and 1. This value then mapped to a specific class based on a threshold (usually 0.5)"
   ]
  },
  {
   "cell_type": "markdown",
   "metadata": {},
   "source": [
    "Evaluation metrics \n",
    "Accuracy : Accuracy is the ratio of correctly predicted observations to total observatoins\n",
    "\n",
    "\n",
    "Precision and Recall : Precision is the ratio of correctly predicted positive observations. Recall is the proportion of correctly predicted positive observations to all observations made in the actual class.\n",
    "\n",
    "\n",
    "F1 : An equilibirum between recall and precision."
   ]
  },
  {
   "cell_type": "markdown",
   "metadata": {},
   "source": [
    "from "
   ]
  },
  {
   "cell_type": "code",
   "execution_count": 1,
   "metadata": {},
   "outputs": [],
   "source": [
    "from sklearn.datasets import load_breast_cancer\n",
    "from sklearn.linear_model import LogisticRegression\n",
    "from sklearn.model_selection import train_test_split\n",
    "from sklearn.metrics import accuracy_score,precision_score,recall_score,f1_score "
   ]
  },
  {
   "cell_type": "code",
   "execution_count": 2,
   "metadata": {},
   "outputs": [],
   "source": [
    "breast_cancer = load_breast_cancer()\n",
    "X,y = breast_cancer.data,breast_cancer.target"
   ]
  },
  {
   "cell_type": "code",
   "execution_count": 3,
   "metadata": {},
   "outputs": [],
   "source": [
    "X_train,X_test,y_train,y_test = train_test_split(X,y, test_size=0.2, random_state=42)"
   ]
  },
  {
   "cell_type": "code",
   "execution_count": 4,
   "metadata": {},
   "outputs": [],
   "source": [
    "logistic_model = LogisticRegression(max_iter=10000)\n",
    "logistic_model.fit(X_train,y_train)\n",
    "y_pred = logistic_model.predict(X_test)"
   ]
  },
  {
   "cell_type": "code",
   "execution_count": 6,
   "metadata": {},
   "outputs": [
    {
     "name": "stdout",
     "output_type": "stream",
     "text": [
      "accuracy:  0.956140350877193\n",
      "precision:  0.9459459459459459\n",
      "recall:  0.9859154929577465\n",
      "f1_score:  0.9655172413793103\n"
     ]
    }
   ],
   "source": [
    "accuracy = accuracy_score(y_test,y_pred)\n",
    "print(\"accuracy: \",accuracy)\n",
    "precision = precision_score(y_test,y_pred)\n",
    "print(\"precision: \",precision)\n",
    "recall = recall_score(y_test,y_pred)\n",
    "print(\"recall: \",recall)\n",
    "f1_s = f1_score(y_test,y_pred)\n",
    "print(\"f1_score: \",f1_s)"
   ]
  },
  {
   "cell_type": "code",
   "execution_count": null,
   "metadata": {},
   "outputs": [],
   "source": []
  }
 ],
 "metadata": {
  "kernelspec": {
   "display_name": "Python 3",
   "language": "python",
   "name": "python3"
  },
  "language_info": {
   "codemirror_mode": {
    "name": "ipython",
    "version": 3
   },
   "file_extension": ".py",
   "mimetype": "text/x-python",
   "name": "python",
   "nbconvert_exporter": "python",
   "pygments_lexer": "ipython3",
   "version": "3.11.5"
  }
 },
 "nbformat": 4,
 "nbformat_minor": 2
}
